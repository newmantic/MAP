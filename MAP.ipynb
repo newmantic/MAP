{
  "nbformat": 4,
  "nbformat_minor": 0,
  "metadata": {
    "colab": {
      "provenance": [],
      "authorship_tag": "ABX9TyPLcXdCZou7HWlUoG9HjlO0",
      "include_colab_link": true
    },
    "kernelspec": {
      "name": "python3",
      "display_name": "Python 3"
    },
    "language_info": {
      "name": "python"
    }
  },
  "cells": [
    {
      "cell_type": "markdown",
      "metadata": {
        "id": "view-in-github",
        "colab_type": "text"
      },
      "source": [
        "<a href=\"https://colab.research.google.com/github/newmantic/MAP/blob/main/MAP.ipynb\" target=\"_parent\"><img src=\"https://colab.research.google.com/assets/colab-badge.svg\" alt=\"Open In Colab\"/></a>"
      ]
    },
    {
      "cell_type": "code",
      "execution_count": 1,
      "metadata": {
        "colab": {
          "base_uri": "https://localhost:8080/"
        },
        "id": "BnKPrc-mhvcI",
        "outputId": "44cd7396-2d01-4918-bc54-d63f2a2b8946"
      },
      "outputs": [
        {
          "output_type": "stream",
          "name": "stdout",
          "text": [
            "Estimated mu (MAP): 4.491891889662739\n"
          ]
        }
      ],
      "source": [
        "import numpy as np\n",
        "from scipy.optimize import minimize\n",
        "\n",
        "def map_normal(data, prior_mu, prior_sigma, known_sigma):\n",
        "    \"\"\"\n",
        "    Perform Maximum A Posteriori Estimation for a Normal distribution with a normal prior on the mean.\n",
        "\n",
        "    Parameters:\n",
        "    data (list or np.ndarray): Sample data.\n",
        "    prior_mu (float): Prior mean for the distribution.\n",
        "    prior_sigma (float): Prior standard deviation for the distribution.\n",
        "    known_sigma (float): Known standard deviation of the normal distribution.\n",
        "\n",
        "    Returns:\n",
        "    float: Estimated mean (mu).\n",
        "    \"\"\"\n",
        "    n = len(data)\n",
        "\n",
        "    # Negative log-posterior function for normal distribution with normal prior on mu\n",
        "    def neg_log_posterior(mu):\n",
        "        likelihood_term = (1/(2 * known_sigma**2)) * np.sum((data - mu)**2)\n",
        "        prior_term = (1/(2 * prior_sigma**2)) * (mu - prior_mu)**2\n",
        "        return likelihood_term + prior_term\n",
        "\n",
        "    # Initial guess for mu\n",
        "    initial_mu = np.mean(data)\n",
        "\n",
        "    # Minimize the negative log-posterior\n",
        "    result = minimize(neg_log_posterior, initial_mu)\n",
        "    mu_map = result.x[0]\n",
        "    return mu_map\n",
        "\n",
        "# Testable example:\n",
        "data = [1.3, 2.7, 3.1, 4.2, 5.8, 6.0, 7.2]\n",
        "prior_mu = 5.0\n",
        "prior_sigma = 1.0\n",
        "known_sigma = 1.5\n",
        "mu_map = map_normal(data, prior_mu, prior_sigma, known_sigma)\n",
        "print(f\"Estimated mu (MAP): {mu_map}\")"
      ]
    },
    {
      "cell_type": "code",
      "source": [
        "from scipy.stats import gamma\n",
        "\n",
        "def map_exponential(data, prior_alpha, prior_beta):\n",
        "    \"\"\"\n",
        "    Perform Maximum A Posteriori Estimation for an Exponential distribution with a gamma prior on the rate parameter.\n",
        "\n",
        "    Parameters:\n",
        "    data (list or np.ndarray): Sample data.\n",
        "    prior_alpha (float): Alpha parameter of the gamma prior.\n",
        "    prior_beta (float): Beta parameter of the gamma prior.\n",
        "\n",
        "    Returns:\n",
        "    float: Estimated rate parameter (lambda).\n",
        "    \"\"\"\n",
        "    n = len(data)\n",
        "    sum_data = np.sum(data)\n",
        "\n",
        "    # Negative log-posterior function for exponential distribution with gamma prior on lambda\n",
        "    def neg_log_posterior(lmbda):\n",
        "        if lmbda <= 0:  # lambda must be positive\n",
        "            return np.inf\n",
        "        likelihood_term = -n * np.log(lmbda) + lmbda * sum_data\n",
        "        prior_term = -(prior_alpha - 1) * np.log(lmbda) + prior_beta * lmbda\n",
        "        return likelihood_term + prior_term\n",
        "\n",
        "    # Initial guess for lambda\n",
        "    initial_lambda = 1 / np.mean(data)\n",
        "\n",
        "    # Minimize the negative log-posterior\n",
        "    result = minimize(neg_log_posterior, initial_lambda, bounds=[(1e-6, None)])\n",
        "    lambda_map = result.x[0]\n",
        "    return lambda_map\n",
        "\n",
        "# Testable example:\n",
        "data = [0.5, 1.7, 2.2, 0.9, 3.1, 4.2]\n",
        "prior_alpha = 2.0\n",
        "prior_beta = 1.0\n",
        "lambda_map = map_exponential(data, prior_alpha, prior_beta)\n",
        "print(f\"Estimated lambda (MAP): {lambda_map}\")\n",
        "\n",
        "\n"
      ],
      "metadata": {
        "colab": {
          "base_uri": "https://localhost:8080/"
        },
        "id": "P3Y7DPAkh_eF",
        "outputId": "418b50f2-9f71-4d00-ed93-1ceede717565"
      },
      "execution_count": 2,
      "outputs": [
        {
          "output_type": "stream",
          "name": "stdout",
          "text": [
            "Estimated lambda (MAP): 0.5147059547264965\n"
          ]
        }
      ]
    }
  ]
}